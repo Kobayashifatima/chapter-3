{
 "cells": [
  {
   "cell_type": "markdown",
   "id": "8d787bdb",
   "metadata": {},
   "source": [
    "# chapter 3"
   ]
  },
  {
   "cell_type": "markdown",
   "id": "5906b19d",
   "metadata": {},
   "source": [
    "conditional execution"
   ]
  },
  {
   "cell_type": "code",
   "execution_count": 1,
   "id": "7bc86ad6",
   "metadata": {},
   "outputs": [
    {
     "name": "stdout",
     "output_type": "stream",
     "text": [
      "Enter your age: 20\n",
      "You are an adult.\n",
      "Enter a number: 12\n",
      "The number is positive.\n",
      "The number is even.\n"
     ]
    }
   ],
   "source": [
    "\n",
    "age = int(input(\"Enter your age: \"))\n",
    "\n",
    "\n",
    "if age < 18:\n",
    "    print(\"You are a minor.\")\n",
    "elif age >= 18 and age < 65:\n",
    "    print(\"You are an adult.\")\n",
    "else:\n",
    "    print(\"You are a senior citizen.\")\n",
    "\n",
    "\n",
    "number = int(input(\"Enter a number: \"))\n",
    "\n",
    "\n",
    "if number > 0:\n",
    "    print(\"The number is positive.\")\n",
    "elif number < 0:\n",
    "    print(\"The number is negative.\")\n",
    "else:\n",
    "    print(\"The number is zero.\")\n",
    "\n",
    "if number % 2 == 0:\n",
    "    print(\"The number is even.\")\n",
    "else:\n",
    "    print(\"The number is odd.\")\n"
   ]
  },
  {
   "cell_type": "code",
   "execution_count": 3,
   "id": "f0c39afa",
   "metadata": {},
   "outputs": [
    {
     "name": "stdout",
     "output_type": "stream",
     "text": [
      "Enter your age: 20\n",
      "Do you have a driver's license? (yes/no): no\n",
      "You are an adult without a driver's license.\n"
     ]
    }
   ],
   "source": [
    "\n",
    "age = int(input(\"Enter your age: \"))\n",
    "has_license = input(\"Do you have a driver's license? (yes/no): \").lower()\n",
    "\n",
    "if age >= 18:\n",
    "    if has_license == \"yes\":\n",
    "        print(\"You are an adult with a driver's license.\")\n",
    "    else:\n",
    "        print(\"You are an adult without a driver's license.\")\n",
    "else:\n",
    "    print(\"You are a minor and cannot have a driver's license.\")\n",
    "    \n",
    "    \n"
   ]
  },
  {
   "cell_type": "code",
   "execution_count": 5,
   "id": "273c7b4a",
   "metadata": {},
   "outputs": [
    {
     "name": "stdout",
     "output_type": "stream",
     "text": [
      "Enter a number: 56\n",
      "The number is positive.\n"
     ]
    }
   ],
   "source": [
    "# Get user input for a number\n",
    "number = float(input(\"Enter a number: \"))\n",
    "\n",
    "# Two-way decision based on whether the number is positive or not\n",
    "if number > 0:\n",
    "    print(\"The number is positive.\")\n",
    "else:\n",
    "    print(\"The number is not positive (zero or negative).\")\n"
   ]
  },
  {
   "cell_type": "code",
   "execution_count": 6,
   "id": "5c433078",
   "metadata": {},
   "outputs": [
    {
     "name": "stdout",
     "output_type": "stream",
     "text": [
      "Enter a number: 67\n",
      "Result of the calculation: 0.14925373134328357\n"
     ]
    }
   ],
   "source": [
    "\n",
    "try:\n",
    "    number = float(input(\"Enter a number: \"))\n",
    "    \n",
    "\n",
    "    result = 10 / number\n",
    "    \n",
    "    \n",
    "    print(\"Result of the calculation:\", result)\n",
    "\n",
    "except ValueError:\n",
    "\n",
    "    print(\"Invalid input. Please enter a valid number.\")\n",
    "\n",
    "except ZeroDivisionError:\n",
    "\n",
    "    print(\"Division by zero is not allowed.\")\n",
    "\n",
    "except Exception as e:\n",
    "\n",
    "    print(\"An error occurred:\", e)\n"
   ]
  },
  {
   "cell_type": "markdown",
   "id": "c2743978",
   "metadata": {},
   "source": [
    "# excercise "
   ]
  },
  {
   "cell_type": "code",
   "execution_count": 7,
   "id": "6fb57be4",
   "metadata": {},
   "outputs": [
    {
     "name": "stdout",
     "output_type": "stream",
     "text": [
      "Enter the number of hours worked: 45\n",
      "Enter the hourly rate: 10\n",
      "Regular Pay: $400.00\n",
      "Overtime Pay: $75.00\n",
      "Total Pay: $475.00\n"
     ]
    }
   ],
   "source": [
    "# Get user input for hours worked and hourly rate\n",
    "hours_worked = float(input(\"Enter the number of hours worked: \"))\n",
    "hourly_rate = float(input(\"Enter the hourly rate: \"))\n",
    "\n",
    "# Calculate the regular pay (up to 40 hours)\n",
    "if hours_worked <= 40:\n",
    "    regular_pay = hours_worked * hourly_rate\n",
    "    overtime_pay = 0  # No overtime hours\n",
    "else:\n",
    "    regular_pay = 40 * hourly_rate\n",
    "    overtime_hours = hours_worked - 40\n",
    "    overtime_pay = overtime_hours * (hourly_rate * 1.5)\n",
    "\n",
    "# Calculate the total pay (including overtime pay)\n",
    "total_pay = regular_pay + overtime_pay\n",
    "\n",
    "# Display the result\n",
    "print(f\"Regular Pay: ${regular_pay:.2f}\")\n",
    "print(f\"Overtime Pay: ${overtime_pay:.2f}\")\n",
    "print(f\"Total Pay: ${total_pay:.2f}\")\n"
   ]
  },
  {
   "cell_type": "markdown",
   "id": "3dcd7482",
   "metadata": {},
   "source": [
    "# # excercise"
   ]
  },
  {
   "cell_type": "code",
   "execution_count": 8,
   "id": "8b2cd9bb",
   "metadata": {},
   "outputs": [
    {
     "name": "stdout",
     "output_type": "stream",
     "text": [
      "Enter the number of hours worked: 20\n",
      "Enter the hourly rate: nine\n",
      "Invalid input for hourly rate. Please enter a valid number.\n",
      "Regular Pay: $0.00\n",
      "Overtime Pay: $0.00\n",
      "Total Pay: $0.00\n"
     ]
    }
   ],
   "source": [
    "# Get user input for hours worked\n",
    "try:\n",
    "    hours_worked = float(input(\"Enter the number of hours worked: \"))\n",
    "except ValueError:\n",
    "    print(\"Invalid input for hours worked. Please enter a valid number.\")\n",
    "    hours_worked = 0  # Default to 0 hours\n",
    "\n",
    "# Get user input for hourly rate\n",
    "try:\n",
    "    hourly_rate = float(input(\"Enter the hourly rate: \"))\n",
    "except ValueError:\n",
    "    print(\"Invalid input for hourly rate. Please enter a valid number.\")\n",
    "    hourly_rate = 0  # Default to $0 per hour\n",
    "\n",
    "# Calculate the regular pay (up to 40 hours)\n",
    "if hours_worked <= 40:\n",
    "    regular_pay = hours_worked * hourly_rate\n",
    "    overtime_pay = 0  # No overtime hours\n",
    "else:\n",
    "    regular_pay = 40 * hourly_rate\n",
    "    overtime_hours = hours_worked - 40\n",
    "    overtime_pay = overtime_hours * (hourly_rate * 1.5)\n",
    "\n",
    "# Calculate the total pay (including overtime pay)\n",
    "total_pay = regular_pay + overtime_pay\n",
    "\n",
    "# Display the result\n",
    "print(f\"Regular Pay: ${regular_pay:.2f}\")\n",
    "print(f\"Overtime Pay: ${overtime_pay:.2f}\")\n",
    "print(f\"Total Pay: ${total_pay:.2f}\")\n"
   ]
  },
  {
   "cell_type": "code",
   "execution_count": null,
   "id": "9b39b6ad",
   "metadata": {},
   "outputs": [],
   "source": []
  }
 ],
 "metadata": {
  "kernelspec": {
   "display_name": "Python 3 (ipykernel)",
   "language": "python",
   "name": "python3"
  },
  "language_info": {
   "codemirror_mode": {
    "name": "ipython",
    "version": 3
   },
   "file_extension": ".py",
   "mimetype": "text/x-python",
   "name": "python",
   "nbconvert_exporter": "python",
   "pygments_lexer": "ipython3",
   "version": "3.11.4"
  }
 },
 "nbformat": 4,
 "nbformat_minor": 5
}
